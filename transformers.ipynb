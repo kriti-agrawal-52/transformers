{
 "cells": [
  {
   "cell_type": "code",
   "execution_count": 6,
   "id": "7b6d4d30-82c5-4316-85b3-2a49b7b88ba2",
   "metadata": {},
   "outputs": [],
   "source": [
    "import torch\n",
    "import torch.nn as nn\n",
    "import torch.nn.functional as F\n",
    "from torch.optim import Adam\n",
    "from torch.utils.data import DataLoader, TensorDataset\n",
    "\n",
    "import lightning as L"
   ]
  },
  {
   "cell_type": "code",
   "execution_count": 7,
   "id": "b833baf9-7ee8-4a8d-827b-91e881b9d67c",
   "metadata": {},
   "outputs": [],
   "source": [
    "# training dataset\n",
    "# for now we want our transformer to output for 2 different prompt\n",
    "# prompt1: what is statquest? \n",
    "# prompt2: statquest is what?\n",
    "# in both cases we want our output to be awesome.\n",
    "token_to_id = {\n",
    "    'what': 0, \n",
    "    'is': 1,\n",
    "    'kitten': 2, \n",
    "    'awesome': 3,\n",
    "    '<EOS>': 4\n",
    "}\n",
    "# We map the tokens to numbers becayse word embedding function only accepts numbers as input\n",
    "id_to_token = dict(map(reversed, token_to_id.items()))"
   ]
  },
  {
   "cell_type": "code",
   "execution_count": 8,
   "id": "492a9a38-b5a6-4655-9abb-bd3b9db8be5b",
   "metadata": {},
   "outputs": [],
   "source": [
    "inputs = torch.tensor([[token_to_id[\"what\"],\n",
    "                        token_to_id[\"is\"], \n",
    "                        token_to_id[\"kitten\"], \n",
    "                        token_to_id[\"<EOS>\"],\n",
    "                        token_to_id[\"awesome\"]], \n",
    "                    \n",
    "                       [token_to_id[\"kitten\"],\n",
    "                        token_to_id[\"is\"], \n",
    "                        token_to_id[\"what\"], \n",
    "                        token_to_id[\"<EOS>\"], \n",
    "                        token_to_id[\"awesome\"]]])\n",
    "\n",
    "labels = torch.tensor([[token_to_id[\"is\"], \n",
    "                        token_to_id[\"kitten\"], \n",
    "                        token_to_id[\"<EOS>\"], \n",
    "                        token_to_id[\"awesome\"], \n",
    "                        token_to_id[\"<EOS>\"]],  \n",
    "                       \n",
    "                       [token_to_id[\"is\"], \n",
    "                        token_to_id[\"what\"], \n",
    "                        token_to_id[\"<EOS>\"], \n",
    "                        token_to_id[\"awesome\"], \n",
    "                        token_to_id[\"<EOS>\"]]])\n",
    "\n",
    "dataset = TensorDataset(inputs, labels) \n",
    "dataloader = DataLoader(dataset)"
   ]
  },
  {
   "cell_type": "code",
   "execution_count": null,
   "id": "cc044655-b147-4fb2-afd8-d0c8a78124f1",
   "metadata": {},
   "outputs": [],
   "source": []
  }
 ],
 "metadata": {
  "kernelspec": {
   "display_name": "Python 3 (ipykernel)",
   "language": "python",
   "name": "python3"
  },
  "language_info": {
   "codemirror_mode": {
    "name": "ipython",
    "version": 3
   },
   "file_extension": ".py",
   "mimetype": "text/x-python",
   "name": "python",
   "nbconvert_exporter": "python",
   "pygments_lexer": "ipython3",
   "version": "3.11.8"
  }
 },
 "nbformat": 4,
 "nbformat_minor": 5
}
